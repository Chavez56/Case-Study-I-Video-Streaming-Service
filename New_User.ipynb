{
 "cells": [
  {
   "cell_type": "code",
   "execution_count": 10,
   "metadata": {},
   "outputs": [],
   "source": [
    "# Import package\n",
    "from tabulate import tabulate\n",
    "\n",
    "\n",
    "# Convert dictionary data to list data\n",
    "data = {\n",
    "    \"Shandy\": [\"Basic Plan\", 12, \"shandy-2134\"],\n",
    "    \"Cahya\": [\"Standard Plan\", 24, \"cahya-abcd\"],\n",
    "    \"Ana\": [\"Premium Plan\", 5, \"ana-2f9g\"],\n",
    "    \"Bagus\": [\"Basic Plan\", 11, \"bagus-9f92\"]\n",
    "}\n",
    "\n",
    "data_list = []\n",
    "\n",
    "for i in data.values():\n",
    "    data_list.extend(i)\n",
    "\n",
    "data_converted = data_list\n",
    "\n",
    "\n",
    "# Class for New User\n",
    "class New_User:\n",
    "    \"\"\"\n",
    "    A class to represent new user for registration data.\n",
    "    \n",
    "    Attributes\n",
    "    ----------\n",
    "    new_username (list): data list type for storing new username\n",
    "    new_username (str): variable to store new username\n",
    "    DISCOUNT (float): constant variable for calculating discount price\n",
    "\n",
    "    Methods\n",
    "    -------\n",
    "    check_benefit(): \n",
    "        Display benefit from each plan (Basic, Standard, Premium)\n",
    "\n",
    "    pick_plan(new_plan,referral_code):\n",
    "        Display the chosen plan and calculated price. \n",
    "        Get discount 4% if new user has valid referral code from the existing user.\n",
    "\n",
    "    \"\"\"\n",
    "\n",
    "    DISCOUNT = 0.04\n",
    "    new_username = []\n",
    "\n",
    "    def __init__(self,new_username: str):\n",
    "\n",
    "        \"\"\"\n",
    "        Construct all the necessary attributes for new user object\n",
    "\n",
    "        Parameters\n",
    "        ----------\n",
    "        new_username (str): variable to store new username\n",
    "        \n",
    "        \"\"\"\n",
    "\n",
    "        self.new_username = new_username\n",
    "\n",
    "    def check_benefit(self):\n",
    "        \"\"\"\n",
    "        Display benefit from each plan (Basic, Standard, Premium)\n",
    "\n",
    "        Parameters\n",
    "        ----------\n",
    "        None\n",
    "\n",
    "        Returns\n",
    "        -------\n",
    "        None \n",
    "\n",
    "        \"\"\"\n",
    "\n",
    "        self.column_name = [\"Services\", \"Basic Plan\", \"Standard Plan\", \"Premium Plan\"]\n",
    "\n",
    "        self.content_1 = ['Streaming', True, True, True]\n",
    "        self.content_2 = ['Download', True, True, True]\n",
    "        self.content_3 = ['SD Quality', True, True, True]\n",
    "        self.content_4 = ['HD Quality', ' ', True, True]\n",
    "        self.content_5 = ['UHD Quality', ' ', ' ', True]\n",
    "        self.content_6 = ['Number of Devices', 1, 2, 4]\n",
    "        self.content_7 = ['Content', \"3rd party movie only\", \n",
    "                          \"Basic Plan Content \\n+ \\nSports \\n(F1, Football, Basketball)\", \n",
    "                          \"Basic Plan \\n+ \\nStandard Plan \\n+ \\nPacFlix Original Series or Movie\" \n",
    "                          ]\n",
    "        self.content_8 = ['Price', f\"Rp {120_000},-\", f\"Rp {160_000},-\", f\"Rp {200_000},-\"]\n",
    "\n",
    "        self.table_content = [self.content_1, \n",
    "                              self.content_2,\n",
    "                              self.content_3,\n",
    "                              self.content_4,\n",
    "                              self.content_5,\n",
    "                              self.content_6,\n",
    "                              self.content_7,\n",
    "                              self.content_8\n",
    "                              ]\n",
    "    \n",
    "        print(tabulate(self.table_content,self.column_name, tablefmt=\"fancy_grid\",colalign=('center','center','center','center')))\n",
    "\n",
    "    def pick_plan(self,new_plan: str,referral_code: str):\n",
    "        \"\"\"\n",
    "        Display the chosen plan and calculated price. \n",
    "        Get discount 4% if new user has valid referral code from the existing user.\n",
    "\n",
    "        Parameters\n",
    "        ----------\n",
    "        new_plan (str): the plan that will be chosen\n",
    "        referral_code (str): the code from the existing user would share with a friend they want to refer to\n",
    "\n",
    "        Returns\n",
    "        -------\n",
    "        None \n",
    "        \"\"\"\n",
    "\n",
    "        self.new_plan = new_plan.title() + \" \" + \"Plan\"\n",
    "        self.referral_code = referral_code\n",
    "\n",
    "        New_User.new_username += [self.new_username]\n",
    "\n",
    "        if self.referral_code !=\"\":\n",
    "            if self.referral_code in data_converted:\n",
    "                if self.new_plan in data_converted:\n",
    "                    if self.new_plan == \"Basic Plan\":\n",
    "                        price = int(self.content_8[1].replace('Rp','').replace(',-','')) - New_User.DISCOUNT * int(self.content_8[1].replace('Rp','').replace(',-',''))\n",
    "                        print(f\"Total Price: Rp {int(price)},-\")\n",
    "\n",
    "                    elif self.new_plan == \"Standard Plan\":\n",
    "                        price = int(self.content_8[2].replace('Rp','').replace(',-','')) - New_User.DISCOUNT * int(self.content_8[2].replace('Rp','').replace(',-',''))\n",
    "                        print(f\"Total Price: Rp {int(price)},-\")\n",
    "\n",
    "                    elif self.new_plan == \"Premium Plan\":\n",
    "                        price = int(self.content_8[3].replace('Rp','').replace(',-','')) - New_User.DISCOUNT * int(self.content_8[3].replace('Rp','').replace(',-',''))\n",
    "                        print(f\"Total Price: Rp {int(price)},-\")\n",
    "\n",
    "                    else:\n",
    "                        print(\"Your plan is not exist!\")\n",
    "\n",
    "                elif self.new_plan not in data_converted:\n",
    "                    print(\"Check your data input!\")\n",
    "\n",
    "            else:\n",
    "                raise Exception(\"Referral Code doesn't exist\")\n",
    "            \n",
    "        elif self.referral_code ==\"\":\n",
    "            if self.new_plan in data_converted:\n",
    "                if self.new_plan == \"Basic Plan\":\n",
    "                    price = int(self.content_8[1].replace('Rp','').replace(',-',''))\n",
    "                    print(f\"Total Price: Rp {int(price)},-\")\n",
    "\n",
    "                elif self.new_plan == \"Standard Plan\":\n",
    "                    price = int(self.content_8[2].replace('Rp','').replace(',-','')) \n",
    "                    print(f\"Total Price: Rp {int(price)},-\")\n",
    "\n",
    "                elif self.new_plan == \"Premium Plan\":\n",
    "                    price = int(self.content_8[3].replace('Rp','').replace(',-',''))\n",
    "                    print(f\"Total Price: Rp {int(price)},-\")\n",
    "\n",
    "                else:\n",
    "                    print(\"Your plan is not exist!\")\n",
    "\n",
    "            elif self.new_plan not in data_converted:\n",
    "                print(\"Check your data input!\")\n",
    "\n",
    "            \n",
    "                    "
   ]
  },
  {
   "attachments": {},
   "cell_type": "markdown",
   "metadata": {},
   "source": [
    "### Task 1"
   ]
  },
  {
   "cell_type": "code",
   "execution_count": 16,
   "metadata": {},
   "outputs": [
    {
     "name": "stdout",
     "output_type": "stream",
     "text": [
      "faizal_icikiwir\n"
     ]
    }
   ],
   "source": [
    "# Calling class and defining parameter\n",
    "Faizal = New_User(new_username=\"faizal_icikiwir\")\n",
    "print(Faizal.new_username)"
   ]
  },
  {
   "cell_type": "code",
   "execution_count": 17,
   "metadata": {},
   "outputs": [
    {
     "name": "stdout",
     "output_type": "stream",
     "text": [
      "╒═══════════════════╤══════════════════════╤════════════════════════════╤══════════════════════════════════╕\n",
      "│     Services      │      Basic Plan      │       Standard Plan        │           Premium Plan           │\n",
      "╞═══════════════════╪══════════════════════╪════════════════════════════╪══════════════════════════════════╡\n",
      "│     Streaming     │         True         │            True            │               True               │\n",
      "├───────────────────┼──────────────────────┼────────────────────────────┼──────────────────────────────────┤\n",
      "│     Download      │         True         │            True            │               True               │\n",
      "├───────────────────┼──────────────────────┼────────────────────────────┼──────────────────────────────────┤\n",
      "│    SD Quality     │         True         │            True            │               True               │\n",
      "├───────────────────┼──────────────────────┼────────────────────────────┼──────────────────────────────────┤\n",
      "│    HD Quality     │                      │            True            │               True               │\n",
      "├───────────────────┼──────────────────────┼────────────────────────────┼──────────────────────────────────┤\n",
      "│    UHD Quality    │                      │                            │               True               │\n",
      "├───────────────────┼──────────────────────┼────────────────────────────┼──────────────────────────────────┤\n",
      "│ Number of Devices │          1           │             2              │                4                 │\n",
      "├───────────────────┼──────────────────────┼────────────────────────────┼──────────────────────────────────┤\n",
      "│      Content      │ 3rd party movie only │    Basic Plan Content      │           Basic Plan             │\n",
      "│                   │                      │             +              │                +                 │\n",
      "│                   │                      │          Sports            │          Standard Plan           │\n",
      "│                   │                      │ (F1, Football, Basketball) │                +                 │\n",
      "│                   │                      │                            │ PacFlix Original Series or Movie │\n",
      "├───────────────────┼──────────────────────┼────────────────────────────┼──────────────────────────────────┤\n",
      "│       Price       │     Rp 120000,-      │        Rp 160000,-         │           Rp 200000,-            │\n",
      "╘═══════════════════╧══════════════════════╧════════════════════════════╧══════════════════════════════════╛\n"
     ]
    }
   ],
   "source": [
    "# Display benefit table for new user\n",
    "Faizal.check_benefit()"
   ]
  },
  {
   "cell_type": "code",
   "execution_count": 18,
   "metadata": {},
   "outputs": [
    {
     "name": "stdout",
     "output_type": "stream",
     "text": [
      "Total Price: Rp 120000,-\n"
     ]
    }
   ],
   "source": [
    "# Total price if new user does not have a referral code\n",
    "Faizal.pick_plan(new_plan=\"Basic\",referral_code=\"\")"
   ]
  },
  {
   "cell_type": "code",
   "execution_count": 19,
   "metadata": {},
   "outputs": [
    {
     "name": "stdout",
     "output_type": "stream",
     "text": [
      "Total Price: Rp 115200,-\n"
     ]
    }
   ],
   "source": [
    "# Total price if new user has a valid referral code\n",
    "Faizal.pick_plan(new_plan=\"Basic\",referral_code=\"shandy-2134\")"
   ]
  },
  {
   "cell_type": "code",
   "execution_count": 20,
   "metadata": {},
   "outputs": [
    {
     "ename": "Exception",
     "evalue": "Referral Code doesn't exist",
     "output_type": "error",
     "traceback": [
      "\u001b[1;31m---------------------------------------------------------------------------\u001b[0m",
      "\u001b[1;31mException\u001b[0m                                 Traceback (most recent call last)",
      "Cell \u001b[1;32mIn[20], line 1\u001b[0m\n\u001b[1;32m----> 1\u001b[0m Faizal\u001b[39m.\u001b[39mpick_plan(new_plan\u001b[39m=\u001b[39m\u001b[39m\"\u001b[39m\u001b[39mBasic\u001b[39m\u001b[39m\"\u001b[39m,referral_code\u001b[39m=\u001b[39m\u001b[39m\"\u001b[39m\u001b[39mshandy-1234\u001b[39m\u001b[39m\"\u001b[39m)\n",
      "Cell \u001b[1;32mIn[10], line 136\u001b[0m, in \u001b[0;36mNew_User.pick_plan\u001b[1;34m(self, new_plan, referral_code)\u001b[0m\n\u001b[0;32m    133\u001b[0m             \u001b[39mprint\u001b[39m(\u001b[39m\"\u001b[39m\u001b[39mCheck your data input!\u001b[39m\u001b[39m\"\u001b[39m)\n\u001b[0;32m    135\u001b[0m     \u001b[39melse\u001b[39;00m:\n\u001b[1;32m--> 136\u001b[0m         \u001b[39mraise\u001b[39;00m \u001b[39mException\u001b[39;00m(\u001b[39m\"\u001b[39m\u001b[39mReferral Code doesn\u001b[39m\u001b[39m'\u001b[39m\u001b[39mt exist\u001b[39m\u001b[39m\"\u001b[39m)\n\u001b[0;32m    138\u001b[0m \u001b[39melif\u001b[39;00m \u001b[39mself\u001b[39m\u001b[39m.\u001b[39mreferral_code \u001b[39m==\u001b[39m\u001b[39m\"\u001b[39m\u001b[39m\"\u001b[39m:\n\u001b[0;32m    139\u001b[0m     \u001b[39mif\u001b[39;00m \u001b[39mself\u001b[39m\u001b[39m.\u001b[39mnew_plan \u001b[39min\u001b[39;00m data_converted:\n",
      "\u001b[1;31mException\u001b[0m: Referral Code doesn't exist"
     ]
    }
   ],
   "source": [
    "# Display error if referral code invalid\n",
    "Faizal.pick_plan(new_plan=\"Basic\",referral_code=\"shandy-1234\")"
   ]
  }
 ],
 "metadata": {
  "kernelspec": {
   "display_name": "base",
   "language": "python",
   "name": "python3"
  },
  "language_info": {
   "codemirror_mode": {
    "name": "ipython",
    "version": 3
   },
   "file_extension": ".py",
   "mimetype": "text/x-python",
   "name": "python",
   "nbconvert_exporter": "python",
   "pygments_lexer": "ipython3",
   "version": "3.11.7"
  },
  "orig_nbformat": 4
 },
 "nbformat": 4,
 "nbformat_minor": 2
}
